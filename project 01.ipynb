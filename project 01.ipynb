{
 "cells": [
  {
   "cell_type": "markdown",
   "metadata": {},
   "source": [
    "<H1>My Jupiter Notebook on IBM Watson Studio</H1>\n"
   ]
  },
  {
   "cell_type": "markdown",
   "metadata": {},
   "source": [
    "**G.G.Heshan Himantha Prabodhana**<br>current university undergraduate aim is to be datascientist."
   ]
  },
  {
   "cell_type": "markdown",
   "metadata": {},
   "source": [
    "*I am interested in data science because i love working with machine learning and aritificial intellignece. So i like to data science beacause it uses AI and machine learning. And Also i like to look at inside of data and prediction in data.*"
   ]
  },
  {
   "cell_type": "markdown",
   "metadata": {},
   "source": [
    "<H3>The Following code tests Fruit is Mango or Apple</H3>"
   ]
  },
  {
   "cell_type": "code",
   "execution_count": 1,
   "metadata": {},
   "outputs": [
    {
     "name": "stdout",
     "output_type": "stream",
     "text": [
      "Enter 0 or 1:{Apple =0 and Mango = 1}1\n",
      "Mango\n"
     ]
    }
   ],
   "source": [
    "x = int(input(\"Enter 0 or 1:{Apple =0 and Mango = 1}\")) \n",
    "\n",
    "if x==0:\n",
    "  print(\"Apple\")\n",
    "elif x==1:\n",
    "  print(\"Mango\")\n",
    "else:\n",
    "  print(\"Wrong Number\")"
   ]
  },
  {
   "cell_type": "markdown",
   "metadata": {},
   "source": [
    "horizontal line<br>\n",
    "<hr style=\"height:2px\">"
   ]
  },
  {
   "cell_type": "markdown",
   "metadata": {},
   "source": [
    "bulleted list <br> \n",
    "\n",
    "<ul style=\"list-style-type:circle;\">\n",
    "  <li>Html</li>\n",
    "  <li>CSS</li>\n",
    "  <li>JavaScript</li>\n",
    "</ul>\n",
    "\n",
    "<ul style=\"list-style-type:square;\">\n",
    "  <li>Data Science</li>\n",
    "  <li>Machine Learning</li>\n",
    "  <li>Artificial Intelligence</li>\n",
    "</ul>\n",
    "\n",
    "numbered list <br>\n",
    "<ol>\n",
    "  <li>Software Engineering</li>\n",
    "  <li>Cyber Security</li>\n",
    "  <li>Data Science</li>\n",
    "</ol>"
   ]
  },
  {
   "cell_type": "markdown",
   "metadata": {},
   "source": [
    "Table <br>\n",
    "\n",
    "<table>\n",
    "  <tr>\n",
    "    <th>ID</th>\n",
    "    <th>Name</th>\n",
    "    <th>Course</th>\n",
    "  </tr>\n",
    "  <tr>\n",
    "    <td>CS001</td>\n",
    "    <td>Andrew</td>\n",
    "    <td>IBM Data Science</td>\n",
    "  </tr>\n",
    "  <tr>\n",
    "    <td>CS002</td>\n",
    "    <td>Mark</td>\n",
    "    <td>IBM AI Engineering</td>\n",
    "  </tr>\n",
    "</table>"
   ]
  },
  {
   "cell_type": "markdown",
   "metadata": {},
   "source": [
    "Hyperlinks <br>\n",
    "\n",
    "<a href=\"https://cloud.ibm.com/login\">IBM Cloud</a>"
   ]
  },
  {
   "cell_type": "markdown",
   "metadata": {},
   "source": [
    "<img src=\"1.jfif\" alt=\"Apple\">"
   ]
  },
  {
   "cell_type": "markdown",
   "metadata": {},
   "source": [
    "<html>\n",
    "<body>\n",
    "\n",
    "<h5>Testing an HTML Syntax Highlighter</h5>\n",
    "<p>Hello world!</p>\n",
    "<a href=\"https://www.google.com/\">Back to google</a>\n",
    "\n",
    "</body>\n",
    "</html>"
   ]
  },
  {
   "cell_type": "markdown",
   "metadata": {},
   "source": [
    "<blockquote>Heshan</blockquote>"
   ]
  },
  {
   "cell_type": "markdown",
   "metadata": {},
   "source": [
    "<p><s>I am undergraduate of cs</s></p>"
   ]
  },
  {
   "cell_type": "code",
   "execution_count": null,
   "metadata": {},
   "outputs": [],
   "source": []
  }
 ],
 "metadata": {
  "kernelspec": {
   "display_name": "Python 3.10",
   "language": "python",
   "name": "python3"
  },
  "language_info": {
   "codemirror_mode": {
    "name": "ipython",
    "version": 3
   },
   "file_extension": ".py",
   "mimetype": "text/x-python",
   "name": "python",
   "nbconvert_exporter": "python",
   "pygments_lexer": "ipython3",
   "version": "3.10.9"
  }
 },
 "nbformat": 4,
 "nbformat_minor": 1
}
